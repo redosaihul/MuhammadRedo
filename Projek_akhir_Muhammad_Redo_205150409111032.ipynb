{
  "nbformat": 4,
  "nbformat_minor": 0,
  "metadata": {
    "colab": {
      "name": "Projek_akhir_Muhammad_Redo_205150409111032.ipynb",
      "provenance": [],
      "authorship_tag": "ABX9TyNGZp1fh/AhTT9UTTDlg3tn",
      "include_colab_link": true
    },
    "kernelspec": {
      "name": "python3",
      "display_name": "Python 3"
    }
  },
  "cells": [
    {
      "cell_type": "markdown",
      "metadata": {
        "id": "view-in-github",
        "colab_type": "text"
      },
      "source": [
        "<a href=\"https://colab.research.google.com/github/redosaihul/MuhammadRedo/blob/main/Projek_akhir_Muhammad_Redo_205150409111032.ipynb\" target=\"_parent\"><img src=\"https://colab.research.google.com/assets/colab-badge.svg\" alt=\"Open In Colab\"/></a>"
      ]
    },
    {
      "cell_type": "code",
      "metadata": {
        "id": "WivgN4B2IZZ_"
      },
      "source": [
        "import pandas as pd\r\n",
        "url = 'https://github.com/redosaihul/MuhammadRedo.git'"
      ],
      "execution_count": null,
      "outputs": []
    }
  ]
}